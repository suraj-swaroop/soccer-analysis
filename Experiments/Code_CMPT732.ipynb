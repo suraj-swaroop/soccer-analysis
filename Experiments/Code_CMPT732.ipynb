{
 "cells": [
  {
   "cell_type": "code",
   "execution_count": 1,
   "metadata": {},
   "outputs": [],
   "source": [
    "import findspark\n",
    "findspark.init()"
   ]
  },
  {
   "cell_type": "code",
   "execution_count": 2,
   "metadata": {},
   "outputs": [],
   "source": [
    "import pyspark\n",
    "from pyspark.sql import SparkSession, functions, types\n",
    "spark = SparkSession.builder.appName('Analyses').getOrCreate()"
   ]
  },
  {
   "cell_type": "code",
   "execution_count": 3,
   "metadata": {},
   "outputs": [],
   "source": [
    "player_schema = types.StructType([\n",
    "    types.StructField('name', types.StringType()),\n",
    "    types.StructField('age', types.IntegerType()),\n",
    "    types.StructField('overall_rating', types.IntegerType()),\n",
    "    types.StructField('potential', types.IntegerType()),\n",
    "    types.StructField('team', types.StringType()),\n",
    "    types.StructField('ID', types.IntegerType()),\n",
    "    types.StructField('height', types.StringType()),\n",
    "    types.StructField('weight', types.StringType()),\n",
    "    types.StructField('foot', types.StringType()),\n",
    "    types.StructField('best_overall', types.IntegerType()),\n",
    "    types.StructField('position', types.StringType()),\n",
    "    types.StructField('growth', types.IntegerType()),\n",
    "    types.StructField('joined', types.StringType()),\n",
    "    types.StructField('loan end date', types.StringType()),\n",
    "    types.StructField('value', types.FloatType()),\n",
    "    types.StructField('wage', types.FloatType()),\n",
    "    types.StructField('release clause', types.FloatType()),\n",
    "    types.StructField('attacking', types.IntegerType()),\n",
    "    types.StructField('crossing', types.IntegerType()),\n",
    "    types.StructField('finishing', types.IntegerType()),\n",
    "    types.StructField('heading', types.IntegerType()),\n",
    "    types.StructField('short_passing', types.IntegerType()),\n",
    "    types.StructField('volleys', types.IntegerType()),\n",
    "    types.StructField('skill', types.IntegerType()),\n",
    "    types.StructField('dribbling', types.IntegerType()),\n",
    "    types.StructField('curve', types.IntegerType()),\n",
    "    types.StructField('free_kick', types.IntegerType()),\n",
    "    types.StructField('long_passing', types.IntegerType()),\n",
    "    types.StructField('ball_control', types.IntegerType()),\n",
    "    types.StructField('movement', types.IntegerType()),\n",
    "    types.StructField('acceleration', types.IntegerType()),\n",
    "    types.StructField('speed', types.IntegerType()),\n",
    "    types.StructField('agility', types.IntegerType()),\n",
    "    types.StructField('reactions', types.IntegerType()),\n",
    "    types.StructField('balance', types.IntegerType()),\n",
    "    types.StructField('power', types.IntegerType()),\n",
    "    types.StructField('shooting', types.IntegerType()),\n",
    "    types.StructField('jumping', types.IntegerType()),\n",
    "    types.StructField('stamina', types.IntegerType()),\n",
    "    types.StructField('strength', types.IntegerType()),\n",
    "    types.StructField('long_shots', types.IntegerType()),\n",
    "    types.StructField('mentality', types.IntegerType()),\n",
    "    types.StructField('aggression', types.IntegerType()),\n",
    "    types.StructField('interception', types.IntegerType()),\n",
    "    types.StructField('positioning', types.IntegerType()),\n",
    "    types.StructField('vision', types.IntegerType()),\n",
    "    types.StructField('penalties', types.IntegerType()),\n",
    "    types.StructField('composure', types.IntegerType()),\n",
    "    types.StructField('defending', types.IntegerType()),\n",
    "    types.StructField('marking', types.IntegerType()),\n",
    "    types.StructField('standing_tackle', types.IntegerType()),\n",
    "    types.StructField('sliding_tackle', types.IntegerType()),\n",
    "    types.StructField('goalkeeping', types.IntegerType()),\n",
    "    types.StructField('gk_diving', types.IntegerType()),\n",
    "    types.StructField('gk_handling', types.IntegerType()),\n",
    "    types.StructField('gk_kicking', types.IntegerType()),\n",
    "    types.StructField('gk_positioning', types.IntegerType()),\n",
    "    types.StructField('gk_reflexes', types.IntegerType()),\n",
    "    types.StructField('total_stats', types.IntegerType()),\n",
    "    types.StructField('base_stats', types.IntegerType()),\n",
    "    types.StructField('WF', types.IntegerType()),\n",
    "    types.StructField('SM', types.IntegerType()),\n",
    "    types.StructField('A/W', types.StringType()),\n",
    "    types.StructField('D/W', types.StringType()),\n",
    "    types.StructField('IR', types.IntegerType()),\n",
    "    types.StructField('PAC', types.IntegerType()),\n",
    "    types.StructField('SHO', types.IntegerType()),\n",
    "    types.StructField('PAS', types.IntegerType()),\n",
    "    types.StructField('DRI', types.IntegerType()),\n",
    "    types.StructField('DEF', types.IntegerType()),\n",
    "    types.StructField('PHY', types.IntegerType())\n",
    "])"
   ]
  },
  {
   "cell_type": "code",
   "execution_count": 6,
   "metadata": {},
   "outputs": [],
   "source": [
    "df = spark.read.csv('/Users/aishweryaakapoor/Downloads/Football_data_new/player.csv',header=True)"
   ]
  },
  {
   "cell_type": "code",
   "execution_count": 7,
   "metadata": {},
   "outputs": [
    {
     "name": "stdout",
     "output_type": "stream",
     "text": [
      "+-----------------+---+---+---+--------------------+------+------+------+-----+---+---+------+------------+-------------+------+-----+--------------+---------+--------+---------+----------------+-------------+-------+-----+---------+-----+-----------+------------+------------+--------+------------+------------+-------+---------+-------+-----+----------+-------+-------+--------+----------+---------+----------+-------------+-----------+------+---------+---------+---------+-------+---------------+--------------+-----------+---------+-----------+----------+--------------+-----------+-----------+----------+---+---+------+------+---+---+---+---+---+---+----+\n",
      "|             Name|Age|OVA|POT|      Team& Contract|    ID|Height|Weight| foot|BOV| BP|Growth|      Joined|Loan Date End| Value| Wage|Release Clause|Attacking|Crossing|Finishing|Heading Accuracy|Short Passing|Volleys|Skill|Dribbling|Curve|FK Accuracy|Long Passing|Ball Control|Movement|Acceleration|Sprint Speed|Agility|Reactions|Balance|Power|Shot Power|Jumping|Stamina|Strength|Long Shots|Mentality|Aggression|Interceptions|Positioning|Vision|Penalties|Composure|Defending|Marking|Standing Tackle|Sliding Tackle|Goalkeeping|GK Diving|GK Handling|GK Kicking|GK Positioning|GK Reflexes|Total Stats|Base Stats|W/F| SM|   A/W|   D/W| IR|PAC|SHO|PAS|DRI|DEF|PHY |\n",
      "+-----------------+---+---+---+--------------------+------+------+------+-----+---+---+------+------------+-------------+------+-----+--------------+---------+--------+---------+----------------+-------------+-------+-----+---------+-----+-----------+------------+------------+--------+------------+------------+-------+---------+-------+-----+----------+-------+-------+--------+----------+---------+----------+-------------+-----------+------+---------+---------+---------+-------+---------------+--------------+-----------+---------+-----------+----------+--------------+-----------+-----------+----------+---+---+------+------+---+---+---+---+---+---+----+\n",
      "|     A. Romagnoli| 24| 83| 89|               Milan|210413| 6'2\"\"|172lbs| Left| 83| CB|     6|Aug 11, 2015|          N/A|  €32M| €46K|        €60.8M|      243|      36|       30|              77|           72|     28|  266|       65|   36|         24|          71|          70|     317|          60|          66|     60|       78|     53|  339|        64|     78|     72|      79|        46|      281|        85|           86|         31|    45|       34|       76|      256|     88|             86|            82|         52|        9|         14|        12|             8|          9|       1754|       387|  3|  2|Medium|  High|  2| 63| 40| 55| 66| 85|  78|\n",
      "|     R. Ferdinand| 35| 75| 75| Queens Park Rangers|  7289| 6'4\"\"|190lbs|Right| 75| CB|     0|Jul 17, 2014|          N/A| €550K| €30K|            €0|      282|      45|       39|              77|           70|     51|  269|       58|   51|         27|          69|          64|     258|          51|          52|     48|       73|     34|  246|        59|     47|     33|      78|        29|      295|        76|           77|         32|    56|       54|     null|      230|     74|             79|            77|         40|       12|          9|         5|             9|          5|       1620|       353|  3|  2|Medium|Medium|  3| 52| 42| 59| 58| 77|  65|\n",
      "|         D. Djené| 27| 83| 85|           Getafe CF|217940|5'10\"\"|159lbs|Right| 83| CB|     2|Jul 24, 2017|          N/A|  €27M| €35K|        €58.7M|      264|      60|       29|              79|           74|     22|  284|       50|   51|         48|          64|          71|     365|          74|          70|     71|       81|     69|  325|        67|     79|     73|      79|        27|      304|        88|           84|         49|    42|       41|       72|      250|     83|             85|            82|         49|        7|         15|         7|            10|         10|       1841|       393|  4|  2|Medium|  High|  1| 72| 37| 61| 61| 83|  79|\n",
      "|     E. Camavinga| 16| 70| 90|    Stade Rennais FC|248243| 6'0\"\"|150lbs| Left| 70| CM|    20|Jan 20, 2019|          N/A| €3.5M|  €3K|        €10.1M|      289|      59|       52|              55|           72|     51|  329|       73|   64|         48|          71|          73|     355|          73|          70|     74|       68|     70|  304|        70|     62|     65|      51|        56|      324|        74|           67|         63|    68|       52|       74|      203|     66|             69|            68|         50|       12|          6|         8|            12|         12|       1854|       394|  3|  3|  High|  High|  1| 71| 57| 67| 73| 66|  60|\n",
      "|         M. Kudus| 18| 67| 83|     FC Nordsjælland|245155| 5'9\"\"|154lbs| Left| 72| LM|    16| Aug 2, 2018|          N/A| €1.6M|  €2K|         €2.9M|      292|      59|       61|              56|           68|     48|  314|       75|   59|         38|          65|          77|     408|          86|          84|     90|       62|     86|  323|        59|     70|     72|      67|        55|      299|        70|           49|         65|    65|       50|       72|      140|     50|             49|            41|         42|        6|         12|         7|             7|         10|       1818|       401|  3|  4|  High|Medium|  1| 85| 58| 63| 77| 49|  69|\n",
      "|      David Neres| 22| 81| 86|                Ajax|236632| 5'9\"\"|146lbs| Left| 82|CAM|     5| Feb 1, 2017|          N/A|  €24M| €26K|        €35.4M|      338|      67|       76|              45|           78|     72|  365|       88|   70|         52|          69|          86|     429|          86|          87|     91|       79|     86|  335|        74|     54|     76|      64|        67|      321|        58|           35|         78|    81|       69|       80|      104|     40|             32|            32|         48|       14|         10|         5|            13|          6|       1940|       421|  3|  5|Medium|Medium|  2| 87| 73| 73| 87| 36|  65|\n",
      "|        E. Håland| 18| 77| 88|FC Red Bull Salzburg|239085| 6'4\"\"|192lbs| Left| 78| ST|    11| Jan 7, 2019|          N/A|€14.5M| €16K|        €24.7M|      335|      46|       81|              67|           69|     72|  328|       72|   69|         62|          49|          76|     384|          79|          89|     76|       75|     65|  375|        78|     70|     75|      85|        67|      329|        75|           35|         77|    62|       80|       80|       84|     38|             31|            15|         52|        7|         14|        13|            11|          7|       1887|       411|  3|  3|  High|Medium|  1| 85| 77| 60| 73| 36|  80|\n",
      "|            Rodri| 23| 85| 90|     Manchester City|231866| 6'3\"\"|181lbs|Right| 85|CDM|     5| Jul 4, 2019|          N/A|  €47M|€150K|        €90.5M|      346|      63|       64|              75|           85|     59|  359|       76|   65|         54|          82|          82|     357|          68|          66|     69|       82|     72|  383|        74|     69|     84|      80|        76|      363|        76|           84|         75|    82|       46|       85|      244|     82|             84|            78|         49|       10|         10|         7|            14|          8|       2101|       451|  4|  3|Medium|  High|  2| 67| 68| 77| 77| 82|  80|\n",
      "|          J. Maja| 20| 67| 80|FC Girondins de B...|235161|5'11\"\"|148lbs|Right| 67| ST|    13|Jan 26, 2019|          N/A| €1.5M|  €8K|         €3.7M|      290|      46|       69|              59|           57|     59|  284|       63|   61|         44|          51|          65|     342|          73|          78|     59|       66|     66|  307|        68|     55|     57|      63|        64|      233|        38|           14|         66|    52|       63|       68|       78|     33|             22|            23|         49|       14|          8|        15|             5|          7|       1583|       343|  3|  3|Medium|Medium|  1| 76| 67| 52| 64| 28|  56|\n",
      "|      L. Martínez| 21| 78| 85|                Ajax|239301| 5'9\"\"|154lbs| Left| 79|CDM|     7| Jul 1, 2019|          N/A|€13.5M| €14K|        €21.6M|      317|      68|       51|              71|           75|     52|  345|       72|   63|         53|          78|          79|     377|          77|          74|     76|       75|     75|  366|        68|     90|     80|      73|        55|      346|        81|           80|         62|    68|       55|       77|      230|     75|             78|            77|         55|        6|         14|        13|            14|          8|       2036|       431|  3|  3|Medium|  High|  1| 75| 56| 71| 75| 77|  77|\n",
      "|A. Maitland-Niles| 21| 75| 84|             Arsenal|225782|5'10\"\"|157lbs|Right| 75|RWB|     9|Oct 24, 2014|          N/A| €9.5M| €41K|          €20M|      299|      71|       56|              54|           74|     44|  318|       77|   60|         36|          69|          76|     392|          83|          87|     79|       72|     71|  326|        65|     55|     78|      66|        62|      320|        58|           70|         66|    72|       54|       77|      209|     67|             73|            69|         54|       15|          9|         7|            10|         13|       1918|       425|  3|  4|Medium|Medium|  1| 85| 59| 70| 76| 68|  67|\n",
      "|        Ansu Fati| 16| 71| 90|        FC Barcelona|253004|5'10\"\"|121lbs|Right| 73| RW|    19| Aug 1, 2019|          N/A| €4.7M| €15K|        €12.5M|      328|      68|       72|              58|           71|     59|  308|       71|   53|         45|          69|          70|     399|          89|          85|     81|       65|     79|  305|        65|     69|     60|      41|        70|      262|        42|           19|         61|    66|       74|       66|       77|     23|             26|            28|         40|        6|          9|         8|            10|          7|       1719|       369|  4|  4|Medium|Medium|  1| 87| 69| 67| 72| 27|  47|\n",
      "|     Romário Baró| 19| 73| 87|            FC Porto|252038|5'11\"\"|146lbs|Right| 74|CAM|    14| Jul 1, 2016|          N/A| €8.5M|  €6K|        €22.3M|      313|      67|       65|              44|           75|     62|  344|       74|   70|         54|          71|          75|     373|          76|          77|     75|       72|     73|  320|        72|     56|     64|      60|        68|      282|        48|           32|         70|    68|       64|       74|      155|     46|             53|            56|         53|        7|          9|        14|            14|          9|       1840|       392|  4|  3|  High|Medium|  1| 77| 67| 70| 74| 46|  58|\n",
      "|        J. Sancho| 19| 84| 92|   Borussia Dortmund|233049|5'11\"\"|168lbs|Right| 85| RW|     8|Aug 31, 2017|          N/A|€44.5M| €61K|        €84.6M|      354|      78|       76|              37|           83|     80|  368|       92|   81|         48|          59|          88|     439|          89|          85|     91|       84|     90|  317|        68|     51|     77|      59|        62|      288|        41|           29|         78|    83|       57|       80|      105|     32|             41|            32|         52|        7|         11|        10|            11|         13|       1923|       420|  4|  5|Medium|   Low|  2| 87| 71| 77| 90| 35|  60|\n",
      "|        J. Larsen| 20| 75| 85|   Borussia Dortmund|227503| 6'0\"\"|165lbs|Right| 76| RW|    10|Oct 26, 2016|          N/A|  €11M| €41K|        €20.9M|      342|      69|       74|              61|           75|     63|  340|       75|   73|         65|          52|          75|     394|          83|          86|     76|       75|     74|  354|        77|     67|     73|      74|        63|      318|        73|           59|         74|    68|       44|       66|      158|     56|             58|            44|         53|       14|          6|        11|            11|         11|       1959|       428|  4|  3|Medium|Medium|  1| 85| 70| 68| 75| 57|  73|\n",
      "|        S. Tonali| 19| 76| 90|             Brescia|241096|5'11\"\"|174lbs|Right| 77|CDM|    14| Jul 1, 2017|          N/A|€15.5M|  €7K|        €37.6M|      343|      72|       62|              70|           78|     61|  380|       77|   75|         70|          81|          77|     373|          82|          76|     70|       72|     73|  360|        75|     64|     74|      79|        68|      352|        76|           74|         61|    76|       65|       74|      215|     71|             72|            72|         44|       13|          9|         8|             7|          7|       2067|       445|  4|  3|Medium|  High|  1| 79| 66| 76| 76| 72|  76|\n",
      "|      J. Grealish| 23| 77| 84|         Aston Villa|206517| 5'9\"\"|150lbs|Right| 77|CAM|     7| Mar 1, 2012|          N/A|€12.5M| €47K|        €26.3M|      317|      69|       62|              36|           78|     72|  369|       80|   72|         65|          71|          81|     385|          76|          74|     85|       68|     82|  306|        67|     37|     69|      61|        72|      298|        48|           44|         70|    78|       58|       77|      126|     44|             42|            40|         51|       11|          6|        11|            10|         13|       1852|       396|  3|  4|Medium|Medium|  1| 75| 66| 74| 80| 42|  59|\n",
      "|      L. Martínez| 21| 81| 89|               Inter|231478| 5'9\"\"|179lbs|Right| 82| ST|     8| Jul 5, 2018|          N/A|  €27M| €61K|        €51.3M|      361|      56|       82|              82|           72|     69|  346|       82|   76|         33|          73|          82|     399|          81|          81|     86|       78|     73|  398|        79|     88|     78|      84|        69|      339|        84|           31|         82|    76|       66|       77|      103|     56|             22|            25|         48|       11|          8|         8|             8|         13|       1994|       431|  4|  4|  High|Medium|  1| 81| 77| 68| 82| 40|  83|\n",
      "|        F. Tomori| 21| 74| 84|             Chelsea|232756| 6'1\"\"|172lbs|Right| 75| CB|    10| Jul 3, 2015|          N/A| €8.5M| €47K|        €17.9M|      264|      56|       33|              70|           73|     32|  267|       65|   38|         40|          60|          64|     367|          77|          83|     76|       70|     61|  305|        42|     74|     67|      77|        45|      238|        69|           73|         33|    36|       27|       74|      221|     71|             78|            72|         51|       10|         13|        10|            11|          7|       1713|       387|  3|  2|Medium|Medium|  1| 80| 37| 57| 66| 74|  73|\n",
      "|        T. Almada| 18| 72| 88|     Vélez Sarsfield|245371| 5'7\"\"|137lbs|Right| 73|CAM|    16|Jul 23, 2018|          N/A| €6.5M|  €4K|        €13.8M|      300|      59|       71|              39|           69|     62|  350|       76|   74|         64|          63|          73|     410|          87|          85|     90|       59|     89|  312|        72|     55|     65|      50|        70|      300|        59|           41|         68|    67|       65|       68|      107|     33|             38|            36|         47|       12|          8|         9|             8|         10|       1826|       391|  3|  3|Medium|   Low|  1| 86| 70| 66| 76| 37|  56|\n",
      "+-----------------+---+---+---+--------------------+------+------+------+-----+---+---+------+------------+-------------+------+-----+--------------+---------+--------+---------+----------------+-------------+-------+-----+---------+-----+-----------+------------+------------+--------+------------+------------+-------+---------+-------+-----+----------+-------+-------+--------+----------+---------+----------+-------------+-----------+------+---------+---------+---------+-------+---------------+--------------+-----------+---------+-----------+----------+--------------+-----------+-----------+----------+---+---+------+------+---+---+---+---+---+---+----+\n",
      "only showing top 20 rows\n",
      "\n"
     ]
    }
   ],
   "source": [
    "df.show()"
   ]
  },
  {
   "cell_type": "code",
   "execution_count": 17,
   "metadata": {},
   "outputs": [
    {
     "name": "stdout",
     "output_type": "stream",
     "text": [
      "+--------------+---+--------------------+----+----+--------+-----+----+-------------+----+----+----+----+----+\n",
      "|           _c2|_c4|                 _c9|_c10|_c11|    _c12| _c13|_c24|         _c19|_c31|_c32|_c33|_c34|_c35|\n",
      "+--------------+---+--------------------+----+----+--------+-----+----+-------------+----+----+----+----+----+\n",
      "|   S. Esposito| 16|               Inter|  63|  85|  825000| 2000| SUB|  High/Medium|  52|  63|  50|  66|  26|\n",
      "|   Fábio Silva| 16|            FC Porto|  68|  85| 1800000| 1000| SUB|    High/High|  74|  67|  45|  72|  22|\n",
      "|     L. Agoume| 17|               Inter|  63|  85|  800000| 1000| SUB|Medium/Medium|  65|  54|  59|  64|  46|\n",
      "|  M. Greenwood| 17|   Manchester United|  67|  87| 1500000| 6000| SUB|Medium/Medium|  76|  66|  61|  68|  36|\n",
      "|       J. Doku| 17|      RSC Anderlecht|  66|  86| 1300000| 1000| SUB|     High/Low|  88|  51|  56|  74|  26|\n",
      "|  M. Ihattaren| 17|                 PSV|  68|  86| 1800000| 1000| SUB|Medium/Medium|  72|  55|  66|  73|  41|\n",
      "|    R. Matondo| 18|       FC Schalke 04|  66|  85| 1300000| 3000| SUB|Medium/Medium|  88|  56|  61|  68|  31|\n",
      "|    Kangin Lee| 18|         Valencia CF|  76|  86|11500000|11000| SUB|     High/Low|  72|  71|  75|  80|  27|\n",
      "|C. Hudson-Odoi| 18|             Chelsea|  74|  88|11500000|31000| SUB|  High/Medium|  85|  64|  67|  81|  30|\n",
      "|     T. Almada| 18|     Vélez Sarsfield|  72|  88| 6500000| 4000| SUB|   Medium/Low|  86|  70|  66|  76|  37|\n",
      "|      Paulinho| 18| Bayer 04 Leverkusen|  71|  86| 4900000|11000| SUB|Medium/Medium|  79|  61|  66|  75|  34|\n",
      "|       Y. Adli| 18|FC Girondins de B...|  66|  85| 1300000| 3000| SUB|   Low/Medium|  61|  53|  65|  71|  57|\n",
      "|      A. Marin| 18|       Dinamo Zagreb|  66|  85| 1300000| 1000| SUB|Medium/Medium|  79|  58|  61|  72|  32|\n",
      "|     A. Davies| 18|   FC Bayern München|  72|  87| 6500000|18000| SUB|    High/High|  91|  65|  61|  76|  55|\n",
      "|  Sergio Gómez| 18|           SD Huesca|  68|  85| 1800000| 1000| SUB|Medium/Medium|  70|  63|  68|  74|  42|\n",
      "|      J. Sands| 18|    New York City FC|  66|  86| 1200000| 1000| SUB|  Medium/High|  57|  49|  58|  64|  64|\n",
      "|    R. Piccoli| 18|            Atalanta|  64|  85| 1000000| 5000| SUB|Medium/Medium|  55|  63|  47|  57|  34|\n",
      "|          Tete| 19|    Shakhtar Donetsk|  72|  85| 6000000| 1000| SUB|Medium/Medium|  83|  60|  65|  79|  29|\n",
      "|    Florentino| 19|          SL Benfica|  76|  87|12000000| 6000| SUB|  Medium/High|  65|  44|  62|  68|  76|\n",
      "| Ferrán Torres| 19|         Valencia CF|  75|  85|10500000|17000| SUB|  High/Medium|  78|  69|  69|  76|  32|\n",
      "+--------------+---+--------------------+----+----+--------+-----+----+-------------+----+----+----+----+----+\n",
      "only showing top 20 rows\n",
      "\n"
     ]
    }
   ],
   "source": [
    "players_data = spark.read.csv('Downloads/fifa-20-complete-player-dataset/players_20.csv')\n",
    "players_e = players_data.select('_c2','_c4','_c9','_c10','_c11','_c12','_c13','_c24','_c19','_c31','_c32','_c33','_c34','_c35')\n",
    "\n",
    "input_player = 'B. Matuidi'\n",
    "players_e2 = players_e.where(players_e._c2 == input_player)\n",
    "input_age = players_e2.select(players_e2._c4).collect()\n",
    "# print(input_age[0][0])\n",
    "input_potential = players_e2.select(players_e2._c11).collect()\n",
    "# print(input_potential[0][0])\n",
    "input_pos = players_e2.select(players_e2._c24).collect()\n",
    "# print(input_pos[0][0])\n",
    "\n",
    "players_e = players_e.where(players_e['_c24']==input_pos[0][0]).orderBy('_c4')\n",
    "players_e = players_e.where(players_e['_c4'] < input_age[0][0] ).where(players_e['_c11'] >= input_potential[0][0])\n",
    "players_e.show()"
   ]
  },
  {
   "cell_type": "code",
   "execution_count": null,
   "metadata": {},
   "outputs": [],
   "source": []
  }
 ],
 "metadata": {
  "kernelspec": {
   "display_name": "Python 3",
   "language": "python",
   "name": "python3"
  },
  "language_info": {
   "codemirror_mode": {
    "name": "ipython",
    "version": 3
   },
   "file_extension": ".py",
   "mimetype": "text/x-python",
   "name": "python",
   "nbconvert_exporter": "python",
   "pygments_lexer": "ipython3",
   "version": "3.7.3"
  }
 },
 "nbformat": 4,
 "nbformat_minor": 2
}
