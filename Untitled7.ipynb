{
 "cells": [
  {
   "cell_type": "code",
   "execution_count": 1,
   "metadata": {},
   "outputs": [],
   "source": [
    "import findspark\n",
    "findspark.init()"
   ]
  },
  {
   "cell_type": "code",
   "execution_count": 2,
   "metadata": {},
   "outputs": [],
   "source": [
    "import pyspark\n",
    "from pyspark.sql import SparkSession, functions, types\n",
    "spark = SparkSession.builder.appName('New Session').getOrCreate()"
   ]
  },
  {
   "cell_type": "code",
   "execution_count": 3,
   "metadata": {},
   "outputs": [],
   "source": [
    "from pyspark.sql import SparkSession, functions, types\n",
    "from pyspark.ml.pipeline import Pipeline\n",
    "from pyspark.ml.feature import VectorAssembler\n",
    "from pyspark.ml.classification import MultilayerPerceptronClassifier"
   ]
  },
  {
   "cell_type": "code",
   "execution_count": 35,
   "metadata": {},
   "outputs": [],
   "source": [
    "players_data = spark.read.csv('Downloads/fifa-20-complete-player-dataset/players_20.csv',header=True)\n",
    "cc = spark.read.csv('Downloads/countryContinent.csv',header=True)\n",
    "cc = cc.select('country','continent')"
   ]
  },
  {
   "cell_type": "code",
   "execution_count": 36,
   "metadata": {},
   "outputs": [],
   "source": [
    "players_data = players_data.withColumn('age',players_data['age'].cast(types.IntegerType()))\n",
    "players_data = players_data.withColumn('weight_kg',players_data['weight_kg'].cast(types.IntegerType()))\n",
    "players_data = players_data.withColumn('overall',players_data['overall'].cast(types.IntegerType()))\n",
    "players_data = players_data.withColumn('pace',players_data['pace'].cast(types.IntegerType()))\n",
    "players_data = players_data.withColumn('passing',players_data['passing'].cast(types.IntegerType()))\n",
    "players_data = players_data.withColumn('physic',players_data['physic'].cast(types.IntegerType()))\n",
    "players_data = players_data.withColumn('movement_agility',players_data['movement_agility'].cast(types.IntegerType()))\n",
    "players_data = players_data.withColumn('power_stamina',players_data['power_stamina'].cast(types.IntegerType()))\n",
    "players_data = players_data.withColumn('mentality_aggression',players_data['mentality_aggression'].cast(types.IntegerType()))\n",
    "players_data = players_data.withColumn('shooting',players_data['shooting'].cast(types.IntegerType()))\n",
    "players_data = players_data.withColumn('dribbling',players_data['dribbling'].cast(types.IntegerType()))\n",
    "players_data = players_data.withColumn('defending',players_data['defending'].cast(types.IntegerType()))"
   ]
  },
  {
   "cell_type": "code",
   "execution_count": 37,
   "metadata": {},
   "outputs": [],
   "source": [
    "players_a = players_data.select('age','weight_kg','nationality','club','overall','potential','value_eur','wage_eur','body_type','pace','physic','movement_agility','power_stamina','mentality_aggression','passing','shooting','defending','dribbling')"
   ]
  },
  {
   "cell_type": "code",
   "execution_count": 38,
   "metadata": {},
   "outputs": [],
   "source": [
    "nationalities_agg = players_data.select('nationality').distinct()\n",
    "nationalities_agg = nationalities_agg.join(cc, nationalities_agg.nationality == cc.country).drop('country')\n",
    "players_a = players_a.join(nationalities_agg, players_a.nationality == nationalities_agg.nationality).drop('nationality')\n",
    "nationalities_agg = players_a.select('continent').distinct()\n",
    "l = nationalities_agg.collect()\n",
    "country_list = {}\n",
    "for i in range(0,len(l)):\n",
    "    country_list.update({l[i][0]:str(i+1)})\n",
    "country_list\n",
    "\n",
    "players_a = players_a.withColumn('body_type',\\\n",
    "                                   functions.when((functions.col('body_type') == 'Lean'),3)\\\n",
    "                                   .when((functions.col('body_type') == 'Normal'),2)\\\n",
    "                                    .when((functions.col('body_type') == 'Stocky'),1)\\\n",
    "                                   .otherwise(0))\n",
    "players_a = players_a.replace(country_list,1,'continent')\n",
    "# players_a = players_a.filter(players_a['_c20']!='null')\n",
    "\n"
   ]
  },
  {
   "cell_type": "code",
   "execution_count": 39,
   "metadata": {},
   "outputs": [],
   "source": [
    "players_a = players_a.dropna()"
   ]
  },
  {
   "cell_type": "code",
   "execution_count": 40,
   "metadata": {},
   "outputs": [],
   "source": [
    "df1 = players_a.drop('club','wage_eur')"
   ]
  },
  {
   "cell_type": "code",
   "execution_count": 41,
   "metadata": {},
   "outputs": [],
   "source": [
    "df1 = df1.withColumn('value_range', \\\n",
    "                                     functions.when((functions.col('value_eur').between(10000, 200000)), 1) \\\n",
    "                                    .when((functions.col('value_eur').between(200000, 400000)), 2)\\\n",
    "                                    .when((functions.col('value_eur').between(400000, 600000)), 3)\\\n",
    "                                    .when((functions.col('value_eur').between(600000, 800000)), 4)\\\n",
    "                                    .when((functions.col('value_eur').between(800000, 1000000)), 5)\\\n",
    "                                    .otherwise(0))"
   ]
  },
  {
   "cell_type": "code",
   "execution_count": 42,
   "metadata": {},
   "outputs": [],
   "source": [
    "df1 = df1.orderBy(df1.value_eur.desc())"
   ]
  },
  {
   "cell_type": "code",
   "execution_count": 43,
   "metadata": {},
   "outputs": [],
   "source": [
    "train, validation = df1.randomSplit([0.75,0.25])\n",
    "train = train.cache()\n",
    "validation = validation.cache()"
   ]
  },
  {
   "cell_type": "code",
   "execution_count": null,
   "metadata": {},
   "outputs": [],
   "source": [
    "feature_vector = VectorAssembler(inputCols=['age','weight_kg','overall','pace','passing','physic','movement_agility', 'power_stamina', 'mentality_aggression','passing','shooting','defending','dribbling'],outputCol='features')\n",
    "classifier = MultilayerPerceptronClassifier(layers=[13, 130, 6],featuresCol='features',labelCol='value_range',maxIter=500)\n",
    "ml_pipeline = Pipeline(stages=[feature_vector, classifier])\n",
    "model = ml_pipeline.fit(train)\n",
    "model.write().overwrite().save('wage_modeller')"
   ]
  },
  {
   "cell_type": "code",
   "execution_count": null,
   "metadata": {},
   "outputs": [],
   "source": []
  }
 ],
 "metadata": {
  "kernelspec": {
   "display_name": "Python 3",
   "language": "python",
   "name": "python3"
  },
  "language_info": {
   "codemirror_mode": {
    "name": "ipython",
    "version": 3
   },
   "file_extension": ".py",
   "mimetype": "text/x-python",
   "name": "python",
   "nbconvert_exporter": "python",
   "pygments_lexer": "ipython3",
   "version": "3.7.3"
  }
 },
 "nbformat": 4,
 "nbformat_minor": 2
}
